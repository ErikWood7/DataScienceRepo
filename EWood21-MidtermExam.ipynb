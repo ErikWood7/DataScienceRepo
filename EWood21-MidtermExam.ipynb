{
 "cells": [
  {
   "cell_type": "markdown",
   "id": "cdb1b47c-5bd0-4849-98d4-e61df3b50fd4",
   "metadata": {},
   "source": [
    "# Midterm Exam: Programming with Python, NumPy, SciPy, and Pandas\n",
    "## Instructions\n",
    "* Answer all questions by filling in the code cells below.\n",
    "* Provide explanations for your answers where required by adding markdown cells as you see fit.\n",
    "* Comment your code where it is helpful to do so.\n",
    "* Run and test your code cells to ensure they work correctly.\n",
    "## Grading Criteria\n",
    "There are 10 coding exercises. Each exercise is worth 20 points for a total of 200 points. Partial credit for incorrect results will be awarded, if you supply sufficient comments and explanations for me to follow your thought process. \n",
    "## Good Luck!"
   ]
  },
  {
   "cell_type": "markdown",
   "id": "7dec2ba8-4499-4de8-9480-7c10e16d1176",
   "metadata": {},
   "source": [
    "---\n",
    "## Part 1: Python Basics\n",
    "### Coding Exercise 1:\n",
    "Write a function named `is_palindrome` that takes a string 's' as an input parameter and returns `True` if it is a palindrome, and `False` otherwise. \n",
    "A palindrome is a string that reads the same forwards and backwards, like 'mom' and 'dad'.\n",
    "\n",
    "Test your function with the following 4 strings:\n",
    "* \"radar\"\n",
    "* \"python\"\n",
    "* \"level\"\n",
    "* \"tacocat\"\n"
   ]
  },
  {
   "cell_type": "code",
   "execution_count": 12,
   "id": "3696a34a-2de9-42a0-8b81-2f645956330f",
   "metadata": {},
   "outputs": [
    {
     "data": {
      "text/plain": [
       "True"
      ]
     },
     "execution_count": 12,
     "metadata": {},
     "output_type": "execute_result"
    }
   ],
   "source": [
    "def is_palindrome(s):\n",
    "    rev = ''.join(reversed(s))\n",
    "    if (s == rev):\n",
    "        return True\n",
    "    return False\n",
    "\n",
    "s1 = \"radar\"\n",
    "\n",
    "is_palindrome(s1)"
   ]
  },
  {
   "cell_type": "markdown",
   "id": "48c4d74d-5da1-407c-9444-6640aba59763",
   "metadata": {},
   "source": [
    "---\n",
    "## Part 2: Python Built-ins\n",
    "### Coding Exercise 2:\n",
    "Use Python's **built-in** capabilities to create a new list that contains the squares of all elements from the list: [1, 2, 3, 4, 5]."
   ]
  },
  {
   "cell_type": "code",
   "execution_count": 13,
   "id": "721fd735-6437-4c21-9b02-7e6359c32481",
   "metadata": {},
   "outputs": [
    {
     "data": {
      "text/plain": [
       "[1, 4, 9, 16, 25]"
      ]
     },
     "execution_count": 13,
     "metadata": {},
     "output_type": "execute_result"
    }
   ],
   "source": [
    "numbers = [1, 2, 3, 4, 5]\n",
    "\n",
    "[i**2 for i in numbers]\n"
   ]
  },
  {
   "cell_type": "markdown",
   "id": "0d996f24-648a-41e8-a055-016c02e78ba4",
   "metadata": {},
   "source": [
    "---\n",
    "## Part 3: NumPy Basics\n",
    "### Coding Exercise 3:\n",
    "Revisit the list of numbers in **Coding Exercise 2**. This time, conver the list of numbers into a **NumPy Array**, and use Numpy Array methods to square each number in the array. "
   ]
  },
  {
   "cell_type": "code",
   "execution_count": 16,
   "id": "1ff0f04d-9466-4e5a-8b7c-d10799e52bf3",
   "metadata": {},
   "outputs": [
    {
     "data": {
      "text/plain": [
       "array([ 1,  4,  9, 16, 25])"
      ]
     },
     "execution_count": 16,
     "metadata": {},
     "output_type": "execute_result"
    }
   ],
   "source": [
    "import numpy as np\n",
    "numbers = [1, 2, 3, 4, 5]\n",
    "\n",
    "np.array(numbers)**2\n"
   ]
  },
  {
   "cell_type": "markdown",
   "id": "d253c188-db6a-4e2b-86ac-cab8533486a8",
   "metadata": {},
   "source": [
    "---\n",
    "### Coding Exercise 4:\n",
    "Create a **3x3** NumPy array filled with random numbers between 0 and 1."
   ]
  },
  {
   "cell_type": "code",
   "execution_count": 28,
   "id": "395d4332-dbf8-4bbf-a45d-4766704e2709",
   "metadata": {},
   "outputs": [
    {
     "name": "stdout",
     "output_type": "stream",
     "text": [
      "[[0.09691345 0.71390784 0.61509705]\n",
      " [0.39675117 0.53758163 0.25436633]\n",
      " [0.39489625 0.0021857  0.98288549]]\n"
     ]
    }
   ],
   "source": [
    "import numpy as np\n",
    "\n",
    "arr = np.random.rand(3,3)\n",
    "\n",
    "print(arr)"
   ]
  },
  {
   "cell_type": "markdown",
   "id": "f8b2101e-9234-4dff-bfb9-987327719e86",
   "metadata": {},
   "source": [
    "---\n",
    "## Part 4: SciPy (and a little MatPlotLib)\n",
    "### Coding Exercise 5:\n",
    "Use the `scipy.stats` submodule to generate a random sample of 1000 data points from a normal distribution with mean 0 and standard deviation 1. \n",
    "\n",
    "Then, plot a histogram of the sample data. \n",
    "* Title the historgram \"Histogram of a Normally Distributed Sample\".\n",
    "* Label the X-Axis as \"Value\", and the Y-Axis as \"Frequency\".\n",
    "* Use a bin size of 30"
   ]
  },
  {
   "cell_type": "code",
   "execution_count": 9,
   "id": "7127eba4-2acb-4f77-a15f-9bda14407f1a",
   "metadata": {},
   "outputs": [
    {
     "data": {
      "image/png": "[encoded data removed]",
      "text/plain": [
       "<Figure size 640x480 with 1 Axes>"
      ]
     },
     "metadata": {},
     "output_type": "display_data"
    }
   ],
   "source": [
    "import numpy as np\n",
    "import matplotlib.pyplot as plt\n",
    "from scipy import stats\n",
    "\n",
    "stats = stats.norm\n",
    "\n",
    "data = stats.rvs(loc=0, scale=1, size=1000)\n",
    "plt.hist(data, bins=30, edgecolor='black')\n",
    "\n",
    "plt.title(\"Histogram of a Normally Distributed Sample\")\n",
    "plt.xlabel(\"Value\")\n",
    "plt.ylabel(\"Frequency\")\n",
    "\n",
    "plt.show()"
   ]
  },
  {
   "cell_type": "markdown",
   "id": "f2d57dcc-da27-4ca0-9667-f8317cd6d2cb",
   "metadata": {},
   "source": [
    "---\n",
    "### Coding Exercise 6:\n",
    "You are given a safe with a 3-digit code. Each digit in the code can be any number from 0 to 99. Your friend forgot the combination, and would like your help in figuring out how many guesses they'd have to make to open the safe.\n",
    "\n",
    "* Using SciPy's permutations, calculate the total number of possible permutations needed to crack the safe.\n",
    "* If your friend can try one combination every 5 seconds, what is the maximum time (in days, hours, minutes, and seconds) it will take them to open the lock? (assume worst case: they have to try every combination). Python's datetime library might be helpful here. "
   ]
  },
  {
   "cell_type": "code",
   "execution_count": 16,
   "id": "ad757f82-084a-4dcf-b956-47d25f36d659",
   "metadata": {},
   "outputs": [
    {
     "name": "stdout",
     "output_type": "stream",
     "text": [
      "56 days, 3:30:00\n"
     ]
    }
   ],
   "source": [
    "from scipy import special\n",
    "from datetime import timedelta\n",
    "\n",
    "tries = special.perm(100,3)\n",
    "\n",
    "total_sec = tries * 5\n",
    "\n",
    "max_time = timedelta(seconds = total_sec)\n",
    "\n",
    "print(max_time)"
   ]
  },
  {
   "cell_type": "markdown",
   "id": "f43dedae-7b61-4d68-b2eb-ec91796cde31",
   "metadata": {},
   "source": [
    "---\n",
    "## Part 5: Pandas \n",
    "### Coding Exercise 7:\n",
    "Given the set of data in the dictionary, convert the data to a Pandas Dataframe and print the DataFrame"
   ]
  },
  {
   "cell_type": "code",
   "execution_count": 35,
   "id": "ddb8b22a-2d4b-4c0f-ac68-a1f850d17be8",
   "metadata": {},
   "outputs": [
    {
     "name": "stdout",
     "output_type": "stream",
     "text": [
      "      Name  Age         City\n",
      "0    Alice   24     New York\n",
      "1      Bob   27  Los Angeles\n",
      "2  Charlie   22      Chicago\n",
      "3    David   32      Houston\n",
      "4      Eve   29      Chicago\n",
      "5    Frank   38      Houston\n",
      "6    Grace   42      Seattle\n"
     ]
    }
   ],
   "source": [
    "import pandas as pd\n",
    "data = [\n",
    "    {'Name': 'Alice', 'Age': 24, 'City': 'New York'},\n",
    "    {'Name': 'Bob', 'Age': 27, 'City': 'Los Angeles'},\n",
    "    {'Name': 'Charlie', 'Age': 22, 'City': 'Chicago'},\n",
    "    {'Name': 'David', 'Age': 32, 'City': 'Houston'},\n",
    "    {'Name': 'Eve', 'Age': 29, 'City': 'Chicago'},\n",
    "    {'Name': 'Frank', 'Age': 38, 'City': 'Houston'},\n",
    "    {'Name': 'Grace', 'Age': 42, 'City': 'Seattle'}\n",
    "]\n",
    "\n",
    "dataf = pd.DataFrame(data)\n",
    "\n",
    "print(dataf)\n"
   ]
  },
  {
   "cell_type": "markdown",
   "id": "f3195a74-8909-4135-94b6-c6470202e25e",
   "metadata": {},
   "source": [
    "---\n",
    "### Coding Exercise 8:\n",
    "Using the dataframe that you created in Exercise 7, \n",
    "1. Print the first 5 rows of the DataFrame.\n",
    "2. Print the last 5 rows of the DataFrame.\n",
    "3. Print the summary statistics for the DataFrame (include _all_ columns)."
   ]
  },
  {
   "cell_type": "code",
   "execution_count": 36,
   "id": "b5bbd791-a56e-44d7-ac8f-03feaa1f794c",
   "metadata": {},
   "outputs": [
    {
     "name": "stdout",
     "output_type": "stream",
     "text": [
      "      Name  Age         City\n",
      "0    Alice   24     New York\n",
      "1      Bob   27  Los Angeles\n",
      "2  Charlie   22      Chicago\n",
      "3    David   32      Houston\n",
      "4      Eve   29      Chicago\n",
      "      Name  Age     City\n",
      "2  Charlie   22  Chicago\n",
      "3    David   32  Houston\n",
      "4      Eve   29  Chicago\n",
      "5    Frank   38  Houston\n",
      "6    Grace   42  Seattle\n"
     ]
    },
    {
     "data": {
      "text/html": [
       "<div>\n",
       "<style scoped>\n",
       "    .dataframe tbody tr th:only-of-type {\n",
       "        vertical-align: middle;\n",
       "    }\n",
       "\n",
       "    .dataframe tbody tr th {\n",
       "        vertical-align: top;\n",
       "    }\n",
       "\n",
       "    .dataframe thead th {\n",
       "        text-align: right;\n",
       "    }\n",
       "</style>\n",
       "<table border=\"1\" class=\"dataframe\">\n",
       "  <thead>\n",
       "    <tr style=\"text-align: right;\">\n",
       "      <th></th>\n",
       "      <th>Age</th>\n",
       "    </tr>\n",
       "  </thead>\n",
       "  <tbody>\n",
       "    <tr>\n",
       "      <th>count</th>\n",
       "      <td>7.000000</td>\n",
       "    </tr>\n",
       "    <tr>\n",
       "      <th>mean</th>\n",
       "      <td>30.571429</td>\n",
       "    </tr>\n",
       "    <tr>\n",
       "      <th>std</th>\n",
       "      <td>7.299706</td>\n",
       "    </tr>\n",
       "    <tr>\n",
       "      <th>min</th>\n",
       "      <td>22.000000</td>\n",
       "    </tr>\n",
       "    <tr>\n",
       "      <th>25%</th>\n",
       "      <td>25.500000</td>\n",
       "    </tr>\n",
       "    <tr>\n",
       "      <th>50%</th>\n",
       "      <td>29.000000</td>\n",
       "    </tr>\n",
       "    <tr>\n",
       "      <th>75%</th>\n",
       "      <td>35.000000</td>\n",
       "    </tr>\n",
       "    <tr>\n",
       "      <th>max</th>\n",
       "      <td>42.000000</td>\n",
       "    </tr>\n",
       "  </tbody>\n",
       "</table>\n",
       "</div>"
      ],
      "text/plain": [
       "             Age\n",
       "count   7.000000\n",
       "mean   30.571429\n",
       "std     7.299706\n",
       "min    22.000000\n",
       "25%    25.500000\n",
       "50%    29.000000\n",
       "75%    35.000000\n",
       "max    42.000000"
      ]
     },
     "execution_count": 36,
     "metadata": {},
     "output_type": "execute_result"
    }
   ],
   "source": [
    "print(dataf.head())\n",
    "\n",
    "print(dataf.tail())\n",
    "\n",
    "dataf.describe()\n"
   ]
  },
  {
   "cell_type": "markdown",
   "id": "5368051c-0722-496e-aa19-6edf3c994465",
   "metadata": {},
   "source": [
    "---\n",
    "### Coding Exercise 9:\n",
    "Using the dataframe that you created in Exercise 7:\n",
    "* Add a column named \"Income\" to the DataFrame, and import the data from the provided \"incomes\" list.\n",
    "* Print the \"City, Age, and Income\" columns from the updated dataframe"
   ]
  },
  {
   "cell_type": "code",
   "execution_count": 38,
   "id": "a3c9ba5c-fd88-4e3e-aa32-4cf726427fd3",
   "metadata": {},
   "outputs": [
    {
     "name": "stdout",
     "output_type": "stream",
     "text": [
      "          City  Age  Income\n",
      "0     New York   24   50000\n",
      "1  Los Angeles   27   60000\n",
      "2      Chicago   22   55000\n",
      "3      Houston   32   70000\n",
      "4      Chicago   29   65000\n",
      "5      Houston   38   72000\n",
      "6      Seattle   42   68000\n"
     ]
    }
   ],
   "source": [
    "incomes = [50000, 60000, 55000, 70000, 65000, 72000, 68000]\n",
    "dataf['Income'] = incomes\n",
    "\n",
    "print(dataf[['City','Age','Income']])"
   ]
  },
  {
   "cell_type": "markdown",
   "id": "1bcbe5b1-af4c-4588-b7b4-770ef5571d94",
   "metadata": {},
   "source": [
    "---\n",
    "### Coding Exercise 10:\n",
    "Using optimized indexers and the updated dataframe from Exercise 9:\n",
    "* Filter the DataFrame for rows where the City is 'Chicago'. Print the results.\n",
    "* Filter the Dataframe for rows where the Age is greater than 29 AND Income is 70,000 or higher. Print the results."
   ]
  },
  {
   "cell_type": "code",
   "execution_count": 40,
   "id": "4549ce71-e264-45c4-9b66-bcba2f2280bb",
   "metadata": {},
   "outputs": [
    {
     "name": "stdout",
     "output_type": "stream",
     "text": [
      "      Name  Age     City  Income\n",
      "2  Charlie   22  Chicago   55000\n",
      "4      Eve   29  Chicago   65000\n",
      "    Name  Age     City  Income\n",
      "3  David   32  Houston   70000\n",
      "5  Frank   38  Houston   72000\n"
     ]
    }
   ],
   "source": [
    "Chicago_data = dataf.loc[dataf['City'] == 'Chicago'] # creates an indexer for people in the data set with city as Chicago.\n",
    "print(Chicago_data)\n",
    "\n",
    "A_D_data = dataf.loc[(dataf['Age'] > 29) & (dataf['Income'] >= 70000)] #creates an indexer for age > 29 and income >= 70000\n",
    "print(A_D_data)"
   ]
  },
  {
   "cell_type": "markdown",
   "id": "3cdf8f55-d9c5-40cb-89ef-651509a68267",
   "metadata": {},
   "source": [
    "# Congratulations! \n",
    "This is the end of the Midterm exam. \n",
    "Please submit your Jupyter Notebook File named `{yourFlashlineID}-MidtermExam.ipynb` to Canvas."
   ]
  }
 ],
 "metadata": {
  "kernelspec": {
   "display_name": "Python 3 (ipykernel)",
   "language": "python",
   "name": "python3"
  },
  "language_info": {
   "codemirror_mode": {
    "name": "ipython",
    "version": 3
   },
   "file_extension": ".py",
   "mimetype": "text/x-python",
   "name": "python",
   "nbconvert_exporter": "python",
   "pygments_lexer": "ipython3",
   "version": "3.12.2"
  }
 },
 "nbformat": 4,
 "nbformat_minor": 5
}
