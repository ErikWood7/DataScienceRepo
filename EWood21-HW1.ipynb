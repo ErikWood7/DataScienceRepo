{
 "cells": [
  {
   "attachments": {
    "fee6b6ea-5cba-455d-9bb0-29f24fe82a54.jpg": {
     "image/jpeg": "[encoded data removed]"
    }
   },
   "cell_type": "markdown",
   "id": "cf1f1d6f-d342-4bd9-87e1-a9b401f4ac2d",
   "metadata": {},
   "source": [
    "# *Erik Wood*\n",
    "\n",
    "+ I am a current junior here at Kent State.\n",
    "+ My current hobbies include Computers, Magic the Gathering, and Riding my motorcycle.\n",
    "+ Here is my [Linked In](https://www.linkedin.com/in/erik-wood-222e/).\n",
    "\n",
    "### Here is a picture of a random mountian I found on google.\n",
    "\n",
    "![Mountain.jpg](attachment:fee6b6ea-5cba-455d-9bb0-29f24fe82a54.jpg)"
   ]
  },
  {
   "cell_type": "markdown",
   "id": "288c9aa7-c1fc-42bf-b774-e51d95926653",
   "metadata": {},
   "source": [
    "### This code block prints Hello Jupyter."
   ]
  },
  {
   "cell_type": "code",
   "execution_count": 38,
   "id": "e3474916-912b-4f3f-ad7a-19f834443a9d",
   "metadata": {},
   "outputs": [
    {
     "name": "stdout",
     "output_type": "stream",
     "text": [
      "Hello, Jupyter\n"
     ]
    }
   ],
   "source": [
    "print(\"Hello, Jupyter\")"
   ]
  },
  {
   "cell_type": "markdown",
   "id": "ab0ea7b1-e59d-4767-9095-ea97da28833b",
   "metadata": {},
   "source": [
    "### This code block does simple arithmetic."
   ]
  },
  {
   "cell_type": "code",
   "execution_count": 39,
   "id": "ff9e1e4b-5738-4c60-a561-6c5246219f0a",
   "metadata": {},
   "outputs": [
    {
     "name": "stdout",
     "output_type": "stream",
     "text": [
      "8\n"
     ]
    }
   ],
   "source": [
    "a = 3 + 5\n",
    "print(a)"
   ]
  },
  {
   "cell_type": "markdown",
   "id": "55d1ef64-8e1c-405e-9458-2a245646431c",
   "metadata": {},
   "source": [
    "### This code block creates a list of ints and adds them all together then prints the result."
   ]
  },
  {
   "cell_type": "code",
   "execution_count": 40,
   "id": "3166558f-5e8d-498c-9c64-1a15a542a19d",
   "metadata": {},
   "outputs": [
    {
     "name": "stdout",
     "output_type": "stream",
     "text": [
      "10\n"
     ]
    }
   ],
   "source": [
    "list = [1,2,3,4]\n",
    "sum_list = sum(list)\n",
    "print(sum_list)"
   ]
  },
  {
   "cell_type": "markdown",
   "id": "7d919350-c0d5-4a88-899d-c53a4d181347",
   "metadata": {},
   "source": [
    "### This code block creates a dictionary of capital citys and matches them to their respective states."
   ]
  },
  {
   "cell_type": "code",
   "execution_count": 41,
   "id": "74f90b7d-c6c0-43b5-a32f-1332d667b3fa",
   "metadata": {},
   "outputs": [
    {
     "name": "stdout",
     "output_type": "stream",
     "text": [
      "Ohio\n"
     ]
    }
   ],
   "source": [
    "Cap_City = {\n",
    "    \"Columbus\" : \"Ohio\",\n",
    "    \"Phoenix\" : \"Arizona\",\n",
    "    \"Texas\" : \"Austin\"\n",
    "}\n",
    "\n",
    "P1 = Cap_City[\"Columbus\"]\n",
    "print(P1)"
   ]
  },
  {
   "cell_type": "markdown",
   "id": "0f1985e3-559b-4d36-aabd-5d006738d3c1",
   "metadata": {},
   "source": [
    "### This code block creates a set of strings with and there is a simple for loop and if statement to check if the string \"orange\" is in the set of colors."
   ]
  },
  {
   "cell_type": "code",
   "execution_count": 83,
   "id": "20a235a6-7fb7-452a-ab2f-9749b7345af9",
   "metadata": {},
   "outputs": [
    {
     "name": "stdout",
     "output_type": "stream",
     "text": [
      "False\n"
     ]
    }
   ],
   "source": [
    "colors = {\"green\", \"red\", \"blue\", \"red\"}\n",
    "\n",
    "tof = False\n",
    "\n",
    "for x in colors:\n",
    "  if x == \"orange\": \n",
    "    tof = True\n",
    "print(tof)"
   ]
  }
 ],
 "metadata": {
  "kernelspec": {
   "display_name": "Python 3 (ipykernel)",
   "language": "python",
   "name": "python3"
  },
  "language_info": {
   "codemirror_mode": {
    "name": "ipython",
    "version": 3
   },
   "file_extension": ".py",
   "mimetype": "text/x-python",
   "name": "python",
   "nbconvert_exporter": "python",
   "pygments_lexer": "ipython3",
   "version": "3.12.2"
  }
 },
 "nbformat": 4,
 "nbformat_minor": 5
}
