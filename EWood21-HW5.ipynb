{
 "cells": [
  {
   "cell_type": "markdown",
   "id": "ed046829-eec2-4331-a850-becfc5aa43dd",
   "metadata": {},
   "source": [
    "# Homework 5: Analyzing a SQLite Sample Database with Pandas\n",
    "**Objective:**\n",
    "\n",
    "The objective of this assignment is to practice using Jupyter Notebook, Pandas DataFrames, and SQLite for data analysis. You will use the SQLite sample database provided to perform various data analysis tasks.\n",
    "\n",
    "**Instructions:** \n",
    "1. Download the chinook.db database from Canvas [or here](https://www.sqlitetutorial.net/sqlite-sample-database/) and upload it into your Jupyter Notebook instance.\n",
    "\n",
    "2. Review the schema diagram of the Chinook Database found [here](https://www.sqlitetutorial.net/sqlite-sample-database/). Familiarize yourself with the names of the tables, and the columns that they contain.\n",
    "\n",
    "3. Complete the following code cells in this Jupyter Notebook. Provide explanations in the markdown cells and comments for your code as necessary."
   ]
  },
  {
   "cell_type": "markdown",
   "id": "255edb08-09af-4e7d-8535-249536573c22",
   "metadata": {},
   "source": [
    "## Task 1: Connect to the SQLite Database\n",
    "* Import the necessary libraries at the beginning of your notebook\n",
    "* Establish a connection to the `chinook.db` database.\n"
   ]
  },
  {
   "cell_type": "code",
   "execution_count": 17,
   "id": "0d5ef42e-a34f-4565-bedd-65ab1e64c8dc",
   "metadata": {},
   "outputs": [],
   "source": [
    "import pandas as pd\n",
    "import sqlite3\n",
    "\n",
    "#Connect to the SQLite database here\n",
    "conn = sqlite3.connect('chinook.db')\n"
   ]
  },
  {
   "cell_type": "markdown",
   "id": "af1592e9-656b-4dce-8406-84ffb1e8e376",
   "metadata": {},
   "source": [
    "## Task 2: Data Analysis - Customer Insights\n",
    "1. Write a SQL query to find the customers who have made purchases at Chinook. Return their CustomerId, FirstName, LastName, and TotalSpent.\n",
    "2. Return the results of this query to a Pandas DataFrame. Print the contents of the Dataframe\n",
    "3. Find the top 5 customers who have spent the most money. (you can do this in Pandas, or in SQL. Whichever you'd prefer)"
   ]
  },
  {
   "cell_type": "code",
   "execution_count": 19,
   "id": "a026c701-5adb-4411-99e8-b5ccf3e3f14d",
   "metadata": {},
   "outputs": [
    {
     "name": "stdout",
     "output_type": "stream",
     "text": [
      "    CustomerId  FirstName      LastName  TotalSpent\n",
      "0            6     Helena          Holý       49.62\n",
      "1           26    Richard    Cunningham       47.62\n",
      "2           57       Luis         Rojas       46.62\n",
      "3           45   Ladislav        Kovács       45.62\n",
      "4           46       Hugh      O'Reilly       45.62\n",
      "5           24      Frank       Ralston       43.62\n",
      "6           28      Julia       Barnett       43.62\n",
      "7           37       Fynn    Zimmermann       43.62\n",
      "8            7     Astrid        Gruber       42.62\n",
      "9           25     Victor       Stevens       42.62\n",
      "10          44      Terhi    Hämäläinen       41.62\n",
      "11           5  František   Wichterlová       40.62\n",
      "12          43   Isabelle       Mercier       40.62\n",
      "13          48   Johannes  Van der Berg       40.62\n",
      "14           1       Luís     Gonçalves       39.62\n",
      "15           3   François      Tremblay       39.62\n",
      "16           4      Bjørn        Hansen       39.62\n",
      "17          17       Jack         Smith       39.62\n",
      "18          20        Dan        Miller       39.62\n",
      "19          22    Heather       Leacock       39.62\n",
      "20          34       João     Fernandes       39.62\n",
      "21          42      Wyatt        Girard       39.62\n",
      "22          15   Jennifer      Peterson       38.62\n",
      "23          19        Tim         Goyer       38.62\n",
      "24          39    Camille       Bernard       38.62\n",
      "25          40  Dominique      Lefebvre       38.62\n",
      "26          51     Joakim     Johansson       38.62\n",
      "27          58      Manoj        Pareek       38.62\n",
      "28           2     Leonie        Köhler       37.62\n",
      "29           8       Daan       Peeters       37.62\n",
      "30           9       Kara       Nielsen       37.62\n",
      "31          10    Eduardo       Martins       37.62\n",
      "32          11  Alexandre         Rocha       37.62\n",
      "33          12    Roberto       Almeida       37.62\n",
      "34          13   Fernanda         Ramos       37.62\n",
      "35          14       Mark       Philips       37.62\n",
      "36          16      Frank        Harris       37.62\n",
      "37          18   Michelle        Brooks       37.62\n",
      "38          21      Kathy         Chase       37.62\n",
      "39          23       John        Gordon       37.62\n",
      "40          27    Patrick          Gray       37.62\n",
      "41          29     Robert         Brown       37.62\n",
      "42          30     Edward       Francis       37.62\n",
      "43          31     Martha          Silk       37.62\n",
      "44          32      Aaron      Mitchell       37.62\n",
      "45          33      Ellie      Sullivan       37.62\n",
      "46          35   Madalena       Sampaio       37.62\n",
      "47          36     Hannah     Schneider       37.62\n",
      "48          38     Niklas      Schröder       37.62\n",
      "49          41       Marc        Dubois       37.62\n",
      "50          47      Lucas       Mancini       37.62\n",
      "51          49  Stanisław        Wójcik       37.62\n",
      "52          50    Enrique         Muñoz       37.62\n",
      "53          52       Emma         Jones       37.62\n",
      "54          53       Phil        Hughes       37.62\n",
      "55          54      Steve        Murray       37.62\n",
      "56          55       Mark        Taylor       37.62\n",
      "57          56      Diego     Gutiérrez       37.62\n",
      "58          59       Puja    Srivastava       36.64\n"
     ]
    }
   ],
   "source": [
    "#Your SQL Query here\n",
    "#Hint: you'll want to INNER JOIN Invoices & Invoice Items and SUM UnitPrice * Quantity AS TotalSpent, then GROUP BY the correct criteria\n",
    "\n",
    "# Execute the query and load the data into a Pandas DataFrame\n",
    "\n",
    "query = '''\n",
    "    SELECT \n",
    "        c.CustomerId, \n",
    "        c.FirstName, \n",
    "        c.LastName, \n",
    "        SUM(ii.UnitPrice * ii.Quantity) AS TotalSpent\n",
    "    FROM \n",
    "        customers c\n",
    "    INNER JOIN \n",
    "        invoices i ON c.CustomerId = i.CustomerId\n",
    "    INNER JOIN \n",
    "        invoice_items ii ON i.InvoiceId = ii.InvoiceId\n",
    "    GROUP BY \n",
    "        c.CustomerId, \n",
    "        c.FirstName, \n",
    "        c.LastName\n",
    "    ORDER BY \n",
    "        TotalSpent DESC;\n",
    "'''\n",
    "df = pd.read_sql_query(query, conn)\n",
    "\n",
    "#Print the Pandas Dataframe from the reuslt of the query\n",
    "print(df)\n"
   ]
  },
  {
   "cell_type": "code",
   "execution_count": 20,
   "id": "21b8d2b9-78c5-4ff8-8387-310be9ba9810",
   "metadata": {},
   "outputs": [
    {
     "name": "stdout",
     "output_type": "stream",
     "text": [
      "   CustomerId FirstName    LastName  TotalSpent\n",
      "0           6    Helena        Holý       49.62\n",
      "1          26   Richard  Cunningham       47.62\n",
      "2          57      Luis       Rojas       46.62\n",
      "3          45  Ladislav      Kovács       45.62\n",
      "4          46      Hugh    O'Reilly       45.62\n"
     ]
    }
   ],
   "source": [
    "# Display the top 5 customers\n",
    "top_5_customers = df.head(5)\n",
    "print(top_5_customers)"
   ]
  },
  {
   "cell_type": "markdown",
   "id": "0d4b0f99-099f-4175-8614-fa40af803f5f",
   "metadata": {},
   "source": [
    "## Task 3: Visualization\n",
    "1. Using Matplotlib and Seaborn, Plot the total amount spent by the top 5 customers using a bar chart. Display the Customer's First Name on the Y-Axis, and the Total Amount Spent on the X-Axis"
   ]
  },
  {
   "cell_type": "code",
   "execution_count": 33,
   "id": "ce2a0121-fe20-4b2d-b7bd-266d01367b1d",
   "metadata": {},
   "outputs": [
    {
     "name": "stderr",
     "output_type": "stream",
     "text": [
      "C:\\Users\\ERock\\AppData\\Local\\Temp\\ipykernel_11700\\2680771642.py:5: FutureWarning: \n",
      "\n",
      "Passing `palette` without assigning `hue` is deprecated and will be removed in v0.14.0. Assign the `y` variable to `hue` and set `legend=False` for the same effect.\n",
      "\n",
      "  sns.barplot(data=top_5_customers, x='TotalSpent', y='FirstName', palette='inferno')\n"
     ]
    },
    {
     "data": {
      "image/png": "[encoded data removed]",
      "text/plain": [
       "<Figure size 1000x600 with 1 Axes>"
      ]
     },
     "metadata": {},
     "output_type": "display_data"
    }
   ],
   "source": [
    "import matplotlib.pyplot as plt\n",
    "import seaborn as sns\n",
    "\n",
    "plt.figure(figsize=(10, 6))\n",
    "sns.barplot(data=top_5_customers, x='TotalSpent', y='FirstName', palette='inferno')\n",
    "plt.xlabel('Total Amount Spent')\n",
    "plt.ylabel('Customer First Name')\n",
    "plt.title('Top 5 Customers by Total Amount Spent')\n",
    "plt.show()"
   ]
  },
  {
   "cell_type": "markdown",
   "id": "db839bae-4966-41c4-b8a4-94ac8b787979",
   "metadata": {},
   "source": [
    "## Congrats! You've reached the end of Homework 5!\n",
    "Please turn in your notebook to Canvas to receive credit. "
   ]
  },
  {
   "cell_type": "code",
   "execution_count": null,
   "id": "35b5ede2-5808-4fc7-b562-c0a560d0202a",
   "metadata": {},
   "outputs": [],
   "source": []
  }
 ],
 "metadata": {
  "kernelspec": {
   "display_name": "Python 3 (ipykernel)",
   "language": "python",
   "name": "python3"
  },
  "language_info": {
   "codemirror_mode": {
    "name": "ipython",
    "version": 3
   },
   "file_extension": ".py",
   "mimetype": "text/x-python",
   "name": "python",
   "nbconvert_exporter": "python",
   "pygments_lexer": "ipython3",
   "version": "3.12.2"
  }
 },
 "nbformat": 4,
 "nbformat_minor": 5
}
