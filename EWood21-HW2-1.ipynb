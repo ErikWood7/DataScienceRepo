{
 "cells": [
  {
   "cell_type": "markdown",
   "id": "302dc781-750b-43c4-b655-ff40a2f6c3cd",
   "metadata": {},
   "source": [
    "# Homework 2: NumPy Array Creation and Manipulation\n",
    "\n",
    "**Objective:** Familiarize with basic NumPy array creation, attributes, and manipulation techniques.\n",
    "\n",
    "**Instructions:** Complete the following code cells in this Jupyter Notebook. Provide explanations in the markdown cells and comments for your code as necessary.\n",
    "\n"
   ]
  },
  {
   "cell_type": "markdown",
   "id": "48e312da-06be-44f4-b906-36c0f70b91e2",
   "metadata": {},
   "source": [
    "### Task 1: Array Creation\n",
    "\n",
    "1.1. In the code cell below, using NumPy to create a one-dimensional array of numbers from 0 to 9. Name the array `arr1d` and print its contents.\n"
   ]
  },
  {
   "cell_type": "code",
   "execution_count": 5,
   "id": "4b31e53b-9b76-4129-9b70-87dd9f26f4f6",
   "metadata": {},
   "outputs": [
    {
     "data": {
      "text/plain": [
       "array([0, 1, 2, 3, 4, 5, 6, 7, 8, 9])"
      ]
     },
     "execution_count": 5,
     "metadata": {},
     "output_type": "execute_result"
    }
   ],
   "source": [
    "import numpy as np\n",
    "\n",
    "arr1d = np.array([0,1,2,3,4,5,6,7,8,9])\n",
    "arr1d"
   ]
  },
  {
   "cell_type": "markdown",
   "id": "f805f4ec-85f3-4c33-82c5-5867226260f3",
   "metadata": {},
   "source": [
    "1.2. In the code cell below, create a two-dimensional 3x3 array filled with zeros. Name this array `arr2d_zeros`. Print its contents."
   ]
  },
  {
   "cell_type": "code",
   "execution_count": 13,
   "id": "c885a0c0-68e4-4e1f-bd76-ed5c868081dd",
   "metadata": {},
   "outputs": [
    {
     "data": {
      "text/plain": [
       "array([[0., 0., 0.],\n",
       "       [0., 0., 0.],\n",
       "       [0., 0., 0.]])"
      ]
     },
     "execution_count": 13,
     "metadata": {},
     "output_type": "execute_result"
    }
   ],
   "source": [
    "arr2d_zeros = np.array([np.zeros(3), np.zeros(3), np.zeros(3)])\n",
    "\n",
    "arr2d_zeros"
   ]
  },
  {
   "cell_type": "markdown",
   "id": "59fa7e5b-0f62-4dc6-9421-df860eed3a84",
   "metadata": {},
   "source": [
    "1.3. Read the documentation for [numpy.full()](https://numpy.org/doc/stable/reference/generated/numpy.full.html). Use the full() method to create an array of 10 elements, each element being 5. Name this array `arr_constant` and print its contents."
   ]
  },
  {
   "cell_type": "code",
   "execution_count": 23,
   "id": "6954046b-6918-4c98-91d0-6f8c730d7874",
   "metadata": {},
   "outputs": [
    {
     "name": "stdout",
     "output_type": "stream",
     "text": [
      "[[5 5 5 5 5 5 5 5 5 5]]\n"
     ]
    }
   ],
   "source": [
    "arr_constant = np.full((1, 10), 5)\n",
    "\n",
    "print(arr_constant)"
   ]
  },
  {
   "cell_type": "markdown",
   "id": "2e56f1a9-a7a6-4960-b774-e94a022f0180",
   "metadata": {},
   "source": [
    "### Task 2: Array Attributes\n",
    "2.1. In the code cell below, Print the shape, size, and data type of the array created in Task 1.1."
   ]
  },
  {
   "cell_type": "code",
   "execution_count": 31,
   "id": "f1d3fe1b-a42a-4e4f-b618-f42445990ffc",
   "metadata": {},
   "outputs": [
    {
     "name": "stdout",
     "output_type": "stream",
     "text": [
      "(10,)\n",
      "10\n",
      "int32\n"
     ]
    }
   ],
   "source": [
    "print(arr1d.shape)\n",
    "print(arr1d.size)\n",
    "print(arr1d.dtype)"
   ]
  },
  {
   "cell_type": "markdown",
   "id": "fe0d5191-72b5-4a41-a3e7-638cf4807fd3",
   "metadata": {},
   "source": [
    "2.2. In the code cell below, reshape the array from Task 1.1 into a 2x5 matrix named `arr1d_reshaped`. Print the reshaped array."
   ]
  },
  {
   "cell_type": "code",
   "execution_count": 35,
   "id": "d0f0fb20-3e37-4b6e-b522-c38c081c0213",
   "metadata": {},
   "outputs": [
    {
     "name": "stdout",
     "output_type": "stream",
     "text": [
      "[[0 1 2 3 4]\n",
      " [5 6 7 8 9]]\n"
     ]
    }
   ],
   "source": [
    "arr1d_reshaped = arr1d.reshape(2,5)\n",
    "\n",
    "print(arr1d_reshaped)"
   ]
  },
  {
   "cell_type": "markdown",
   "id": "041a09e4-40ea-45c8-b069-edd9db4c557c",
   "metadata": {},
   "source": [
    "### Task 3: Array Operations\n",
    "3.1. Read the documentation on[numpy.random.randint()](https://numpy.org/doc/stable/reference/random/generated/numpy.random.randint.html)  \n",
    "In the code cell below, use numpy.random.randint() to create an array named `arr_random` that contains 10 random integers between 1 and 100.\n",
    "Print the contents of `arr_random`"
   ]
  },
  {
   "cell_type": "code",
   "execution_count": 42,
   "id": "4dc5605d-640a-4379-97ac-d10405f836ac",
   "metadata": {},
   "outputs": [
    {
     "name": "stdout",
     "output_type": "stream",
     "text": [
      "[95 88 80 44 61 37 84 17 35 60]\n"
     ]
    }
   ],
   "source": [
    "arr_random = np.random.randint(100, size = 10)\n",
    "\n",
    "print(arr_random)"
   ]
  },
  {
   "cell_type": "markdown",
   "id": "f5c015a6-1982-4e2a-914b-9b4c54bc8504",
   "metadata": {},
   "source": [
    "3.2. Create a mask named `bool_filter` which will filter out the elements greater than 50 in the array created in Task 3.1.\n",
    "Print the contents of `bool_filter` and the contents of the array in 3.1 with the filter mask applied."
   ]
  },
  {
   "cell_type": "code",
   "execution_count": 48,
   "id": "1c9bf66f-a174-4312-82c4-315f096b723a",
   "metadata": {},
   "outputs": [
    {
     "name": "stdout",
     "output_type": "stream",
     "text": [
      "[ True  True  True False  True False  True False False  True]\n",
      "[95 88 80 61 84 60]\n"
     ]
    }
   ],
   "source": [
    "bool_filter = arr_random > 50\n",
    "\n",
    "print(bool_filter)\n",
    "\n",
    "arr_filtered = arr_random[bool_filter]\n",
    "\n",
    "print(arr_filtered)\n"
   ]
  },
  {
   "cell_type": "markdown",
   "id": "dbe8030f-37b8-411e-ad21-66d6e56a16a1",
   "metadata": {},
   "source": [
    "3.3. Given the two arrays in the code cell below, perform element-wise addition, subtraction, multiplication, and division on two arrays. Print the results of each operation."
   ]
  },
  {
   "cell_type": "code",
   "execution_count": 49,
   "id": "94431a44-f6de-4e67-bf56-d7c031d902d2",
   "metadata": {},
   "outputs": [
    {
     "name": "stdout",
     "output_type": "stream",
     "text": [
      "[6 6 6 6 6]\n",
      "[-4 -2  0  2  4]\n",
      "[5 8 9 8 5]\n",
      "[0.2 0.5 1.  2.  5. ]\n"
     ]
    }
   ],
   "source": [
    "arr1 = np.array([1, 2, 3, 4, 5])\n",
    "arr2 = np.array([5, 4, 3, 2, 1])\n",
    "#Put your code below\n",
    "\n",
    "arrAdd = arr1 + arr2\n",
    "arrSub = arr1 - arr2\n",
    "arrMult = arr1 * arr2\n",
    "arrDiv = arr1 / arr2\n",
    "\n",
    "print(arrAdd)\n",
    "print(arrSub)\n",
    "print(arrMult)\n",
    "print(arrDiv)"
   ]
  },
  {
   "cell_type": "markdown",
   "id": "0f0fcd62-80be-42e7-b876-c84f85ddce05",
   "metadata": {},
   "source": [
    "3.4. Given the matrix below, complete the line of code needed to Transpose the matrix."
   ]
  },
  {
   "cell_type": "code",
   "execution_count": 50,
   "id": "4889d52e-e00f-4492-ab6b-57753e9e86dc",
   "metadata": {},
   "outputs": [
    {
     "name": "stdout",
     "output_type": "stream",
     "text": [
      "The matrix is:\n",
      "[[1 2 3]\n",
      " [4 5 6]\n",
      " [7 8 9]]\n",
      "and the transposed matrix is:\n",
      "[[1 4 7]\n",
      " [2 5 8]\n",
      " [3 6 9]]\n"
     ]
    }
   ],
   "source": [
    "matrix = np.array([[1, 2, 3], [4, 5, 6], [7, 8, 9]])\n",
    "print(\"The matrix is:\")\n",
    "print(matrix)\n",
    "transposed_matrix = matrix.transpose()  #complete this line\n",
    "print(\"and the transposed matrix is:\")\n",
    "print(transposed_matrix)"
   ]
  }
 ],
 "metadata": {
  "kernelspec": {
   "display_name": "Python 3 (ipykernel)",
   "language": "python",
   "name": "python3"
  },
  "language_info": {
   "codemirror_mode": {
    "name": "ipython",
    "version": 3
   },
   "file_extension": ".py",
   "mimetype": "text/x-python",
   "name": "python",
   "nbconvert_exporter": "python",
   "pygments_lexer": "ipython3",
   "version": "3.12.2"
  }
 },
 "nbformat": 4,
 "nbformat_minor": 5
}
